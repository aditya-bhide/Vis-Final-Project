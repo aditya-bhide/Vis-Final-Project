{
 "cells": [
  {
   "cell_type": "code",
   "execution_count": 4,
   "metadata": {},
   "outputs": [],
   "source": [
    "import pandas as pd\n",
    "import numpy as np"
   ]
  },
  {
   "cell_type": "code",
   "execution_count": 134,
   "metadata": {},
   "outputs": [],
   "source": [
    "df = pd.read_csv(\"data/crime_dataset.csv\")"
   ]
  },
  {
   "cell_type": "code",
   "execution_count": null,
   "metadata": {},
   "outputs": [],
   "source": []
  },
  {
   "cell_type": "code",
   "execution_count": 135,
   "metadata": {},
   "outputs": [
    {
     "data": {
      "text/plain": [
       "Index(['year', 'state_abbr', 'state_name', 'population', 'violent_crime',\n",
       "       'homicide', 'rape_legacy', 'rape_revised', 'robbery',\n",
       "       'aggravated_assault', 'property_crime', 'burglary', 'larceny',\n",
       "       'motor_vehicle_theft', 'caveats', 'all_crimes'],\n",
       "      dtype='object')"
      ]
     },
     "execution_count": 135,
     "metadata": {},
     "output_type": "execute_result"
    }
   ],
   "source": [
    "df.columns"
   ]
  },
  {
   "cell_type": "code",
   "execution_count": 136,
   "metadata": {},
   "outputs": [],
   "source": [
    "year = 1990\n",
    "state = 'Texas'\n",
    "crime = 'burglary'"
   ]
  },
  {
   "cell_type": "code",
   "execution_count": 137,
   "metadata": {},
   "outputs": [],
   "source": [
    "df.loc[(df['year'] == year) & (df['state_name'] == state), crime] *= 1.1"
   ]
  },
  {
   "cell_type": "code",
   "execution_count": 138,
   "metadata": {},
   "outputs": [
    {
     "data": {
      "text/html": [
       "<div>\n",
       "<style scoped>\n",
       "    .dataframe tbody tr th:only-of-type {\n",
       "        vertical-align: middle;\n",
       "    }\n",
       "\n",
       "    .dataframe tbody tr th {\n",
       "        vertical-align: top;\n",
       "    }\n",
       "\n",
       "    .dataframe thead th {\n",
       "        text-align: right;\n",
       "    }\n",
       "</style>\n",
       "<table border=\"1\" class=\"dataframe\">\n",
       "  <thead>\n",
       "    <tr style=\"text-align: right;\">\n",
       "      <th></th>\n",
       "      <th>year</th>\n",
       "      <th>state_abbr</th>\n",
       "      <th>state_name</th>\n",
       "      <th>population</th>\n",
       "      <th>violent_crime</th>\n",
       "      <th>homicide</th>\n",
       "      <th>rape_legacy</th>\n",
       "      <th>rape_revised</th>\n",
       "      <th>robbery</th>\n",
       "      <th>aggravated_assault</th>\n",
       "      <th>property_crime</th>\n",
       "      <th>burglary</th>\n",
       "      <th>larceny</th>\n",
       "      <th>motor_vehicle_theft</th>\n",
       "      <th>caveats</th>\n",
       "      <th>all_crimes</th>\n",
       "    </tr>\n",
       "  </thead>\n",
       "  <tbody>\n",
       "    <tr>\n",
       "      <th>604</th>\n",
       "      <td>1990</td>\n",
       "      <td>TX</td>\n",
       "      <td>Texas</td>\n",
       "      <td>16986510</td>\n",
       "      <td>129343</td>\n",
       "      <td>2389</td>\n",
       "      <td>8750.0</td>\n",
       "      <td>NaN</td>\n",
       "      <td>44297</td>\n",
       "      <td>73907</td>\n",
       "      <td>1200151</td>\n",
       "      <td>328803.42528</td>\n",
       "      <td>731224</td>\n",
       "      <td>154415</td>\n",
       "      <td>NaN</td>\n",
       "      <td>1.704702e+06</td>\n",
       "    </tr>\n",
       "  </tbody>\n",
       "</table>\n",
       "</div>"
      ],
      "text/plain": [
       "     year state_abbr state_name  population  violent_crime  homicide  \\\n",
       "604  1990         TX      Texas    16986510         129343      2389   \n",
       "\n",
       "     rape_legacy  rape_revised  robbery  aggravated_assault  property_crime  \\\n",
       "604       8750.0           NaN    44297               73907         1200151   \n",
       "\n",
       "         burglary  larceny  motor_vehicle_theft caveats    all_crimes  \n",
       "604  328803.42528   731224               154415     NaN  1.704702e+06  "
      ]
     },
     "execution_count": 138,
     "metadata": {},
     "output_type": "execute_result"
    }
   ],
   "source": [
    "df.loc[(df['year'] == year) & (df['state_name'] == state)]"
   ]
  },
  {
   "cell_type": "code",
   "execution_count": 139,
   "metadata": {},
   "outputs": [
    {
     "name": "stdout",
     "output_type": "stream",
     "text": [
      "aggravated_assault\n",
      "property_crime\n",
      "burglary\n"
     ]
    }
   ],
   "source": [
    "to_add = ['violent_crime',\n",
    "       'homicide', 'aggravated_assault', 'property_crime',\n",
    "       'burglary']\n",
    "df['all_crimes'] = df['violent_crime'] + df['homicide']\n",
    "for i in range(2, len(to_add)):\n",
    "    print(to_add[i])\n",
    "    df['all_crimes'] += df[to_add[i]]"
   ]
  },
  {
   "cell_type": "code",
   "execution_count": 140,
   "metadata": {},
   "outputs": [
    {
     "data": {
      "text/html": [
       "<div>\n",
       "<style scoped>\n",
       "    .dataframe tbody tr th:only-of-type {\n",
       "        vertical-align: middle;\n",
       "    }\n",
       "\n",
       "    .dataframe tbody tr th {\n",
       "        vertical-align: top;\n",
       "    }\n",
       "\n",
       "    .dataframe thead th {\n",
       "        text-align: right;\n",
       "    }\n",
       "</style>\n",
       "<table border=\"1\" class=\"dataframe\">\n",
       "  <thead>\n",
       "    <tr style=\"text-align: right;\">\n",
       "      <th></th>\n",
       "      <th>year</th>\n",
       "      <th>state_abbr</th>\n",
       "      <th>state_name</th>\n",
       "      <th>population</th>\n",
       "      <th>violent_crime</th>\n",
       "      <th>homicide</th>\n",
       "      <th>rape_legacy</th>\n",
       "      <th>rape_revised</th>\n",
       "      <th>robbery</th>\n",
       "      <th>aggravated_assault</th>\n",
       "      <th>property_crime</th>\n",
       "      <th>burglary</th>\n",
       "      <th>larceny</th>\n",
       "      <th>motor_vehicle_theft</th>\n",
       "      <th>caveats</th>\n",
       "      <th>all_crimes</th>\n",
       "    </tr>\n",
       "  </thead>\n",
       "  <tbody>\n",
       "    <tr>\n",
       "      <th>604</th>\n",
       "      <td>1990</td>\n",
       "      <td>TX</td>\n",
       "      <td>Texas</td>\n",
       "      <td>16986510</td>\n",
       "      <td>129343</td>\n",
       "      <td>2389</td>\n",
       "      <td>8750.0</td>\n",
       "      <td>NaN</td>\n",
       "      <td>44297</td>\n",
       "      <td>73907</td>\n",
       "      <td>1200151</td>\n",
       "      <td>328803.42528</td>\n",
       "      <td>731224</td>\n",
       "      <td>154415</td>\n",
       "      <td>NaN</td>\n",
       "      <td>1.734593e+06</td>\n",
       "    </tr>\n",
       "  </tbody>\n",
       "</table>\n",
       "</div>"
      ],
      "text/plain": [
       "     year state_abbr state_name  population  violent_crime  homicide  \\\n",
       "604  1990         TX      Texas    16986510         129343      2389   \n",
       "\n",
       "     rape_legacy  rape_revised  robbery  aggravated_assault  property_crime  \\\n",
       "604       8750.0           NaN    44297               73907         1200151   \n",
       "\n",
       "         burglary  larceny  motor_vehicle_theft caveats    all_crimes  \n",
       "604  328803.42528   731224               154415     NaN  1.734593e+06  "
      ]
     },
     "execution_count": 140,
     "metadata": {},
     "output_type": "execute_result"
    }
   ],
   "source": [
    "df.loc[(df['year'] == year) & (df['state_name'] == state)]"
   ]
  },
  {
   "cell_type": "code",
   "execution_count": 141,
   "metadata": {},
   "outputs": [],
   "source": [
    "df.to_csv('data/crime_dataset.csv', index=False)"
   ]
  },
  {
   "cell_type": "code",
   "execution_count": null,
   "metadata": {},
   "outputs": [],
   "source": []
  },
  {
   "cell_type": "code",
   "execution_count": null,
   "metadata": {},
   "outputs": [],
   "source": []
  },
  {
   "cell_type": "code",
   "execution_count": 133,
   "metadata": {},
   "outputs": [],
   "source": []
  },
  {
   "cell_type": "code",
   "execution_count": null,
   "metadata": {},
   "outputs": [],
   "source": []
  },
  {
   "cell_type": "code",
   "execution_count": null,
   "metadata": {},
   "outputs": [],
   "source": []
  },
  {
   "cell_type": "code",
   "execution_count": null,
   "metadata": {},
   "outputs": [],
   "source": []
  },
  {
   "cell_type": "code",
   "execution_count": null,
   "metadata": {},
   "outputs": [],
   "source": []
  },
  {
   "cell_type": "code",
   "execution_count": null,
   "metadata": {},
   "outputs": [],
   "source": []
  },
  {
   "cell_type": "code",
   "execution_count": null,
   "metadata": {},
   "outputs": [],
   "source": []
  },
  {
   "cell_type": "code",
   "execution_count": null,
   "metadata": {},
   "outputs": [],
   "source": []
  },
  {
   "cell_type": "code",
   "execution_count": null,
   "metadata": {},
   "outputs": [],
   "source": []
  },
  {
   "cell_type": "code",
   "execution_count": null,
   "metadata": {},
   "outputs": [],
   "source": []
  },
  {
   "cell_type": "code",
   "execution_count": null,
   "metadata": {},
   "outputs": [],
   "source": []
  },
  {
   "cell_type": "code",
   "execution_count": null,
   "metadata": {},
   "outputs": [],
   "source": []
  },
  {
   "cell_type": "code",
   "execution_count": null,
   "metadata": {},
   "outputs": [],
   "source": []
  },
  {
   "cell_type": "code",
   "execution_count": null,
   "metadata": {},
   "outputs": [],
   "source": []
  },
  {
   "cell_type": "code",
   "execution_count": null,
   "metadata": {},
   "outputs": [],
   "source": []
  },
  {
   "cell_type": "code",
   "execution_count": 87,
   "metadata": {},
   "outputs": [],
   "source": [
    "temp = pd.read_csv('data/crime_dataset.csv')"
   ]
  },
  {
   "cell_type": "code",
   "execution_count": 88,
   "metadata": {},
   "outputs": [
    {
     "data": {
      "text/html": [
       "<div>\n",
       "<style scoped>\n",
       "    .dataframe tbody tr th:only-of-type {\n",
       "        vertical-align: middle;\n",
       "    }\n",
       "\n",
       "    .dataframe tbody tr th {\n",
       "        vertical-align: top;\n",
       "    }\n",
       "\n",
       "    .dataframe thead th {\n",
       "        text-align: right;\n",
       "    }\n",
       "</style>\n",
       "<table border=\"1\" class=\"dataframe\">\n",
       "  <thead>\n",
       "    <tr style=\"text-align: right;\">\n",
       "      <th></th>\n",
       "      <th>year</th>\n",
       "      <th>state_abbr</th>\n",
       "      <th>state_name</th>\n",
       "      <th>population</th>\n",
       "      <th>violent_crime</th>\n",
       "      <th>homicide</th>\n",
       "      <th>rape_legacy</th>\n",
       "      <th>rape_revised</th>\n",
       "      <th>robbery</th>\n",
       "      <th>aggravated_assault</th>\n",
       "      <th>property_crime</th>\n",
       "      <th>burglary</th>\n",
       "      <th>larceny</th>\n",
       "      <th>motor_vehicle_theft</th>\n",
       "      <th>caveats</th>\n",
       "      <th>all_crimes</th>\n",
       "    </tr>\n",
       "  </thead>\n",
       "  <tbody>\n",
       "    <tr>\n",
       "      <th>604</th>\n",
       "      <td>1990</td>\n",
       "      <td>TX</td>\n",
       "      <td>Texas</td>\n",
       "      <td>16986510</td>\n",
       "      <td>129343</td>\n",
       "      <td>2389</td>\n",
       "      <td>8750.0</td>\n",
       "      <td>NaN</td>\n",
       "      <td>44297</td>\n",
       "      <td>73907</td>\n",
       "      <td>1200151</td>\n",
       "      <td>251609.6</td>\n",
       "      <td>731224</td>\n",
       "      <td>154415</td>\n",
       "      <td>NaN</td>\n",
       "      <td>1657399.6</td>\n",
       "    </tr>\n",
       "  </tbody>\n",
       "</table>\n",
       "</div>"
      ],
      "text/plain": [
       "     year state_abbr state_name  population  violent_crime  homicide  \\\n",
       "604  1990         TX      Texas    16986510         129343      2389   \n",
       "\n",
       "     rape_legacy  rape_revised  robbery  aggravated_assault  property_crime  \\\n",
       "604       8750.0           NaN    44297               73907         1200151   \n",
       "\n",
       "     burglary  larceny  motor_vehicle_theft caveats  all_crimes  \n",
       "604  251609.6   731224               154415     NaN   1657399.6  "
      ]
     },
     "execution_count": 88,
     "metadata": {},
     "output_type": "execute_result"
    }
   ],
   "source": [
    "temp.loc[(df['year'] == 1990) & (df['state_name'] == 'Texas')]"
   ]
  },
  {
   "cell_type": "code",
   "execution_count": null,
   "metadata": {},
   "outputs": [],
   "source": []
  },
  {
   "cell_type": "code",
   "execution_count": null,
   "metadata": {},
   "outputs": [],
   "source": []
  },
  {
   "cell_type": "code",
   "execution_count": null,
   "metadata": {},
   "outputs": [],
   "source": []
  },
  {
   "cell_type": "code",
   "execution_count": null,
   "metadata": {},
   "outputs": [],
   "source": []
  },
  {
   "cell_type": "code",
   "execution_count": null,
   "metadata": {},
   "outputs": [],
   "source": []
  },
  {
   "cell_type": "code",
   "execution_count": null,
   "metadata": {},
   "outputs": [],
   "source": []
  },
  {
   "cell_type": "code",
   "execution_count": 6,
   "metadata": {},
   "outputs": [],
   "source": []
  },
  {
   "cell_type": "code",
   "execution_count": 17,
   "metadata": {},
   "outputs": [
    {
     "name": "stdout",
     "output_type": "stream",
     "text": [
      "aggravated_assault\n",
      "property_crime\n",
      "burglary\n"
     ]
    }
   ],
   "source": [
    "to_add = ['violent_crime',\n",
    "       'homicide', 'aggravated_assault', 'property_crime',\n",
    "       'burglary']\n",
    "df['all_crimes'] = df['violent_crime'] + df['homicide']\n",
    "for i in range(2, len(to_add)):\n",
    "    print(to_add[i])\n",
    "    df['all_crimes'] += df[to_add[i]]"
   ]
  },
  {
   "cell_type": "code",
   "execution_count": null,
   "metadata": {},
   "outputs": [],
   "source": []
  }
 ],
 "metadata": {
  "kernelspec": {
   "display_name": "vis",
   "language": "python",
   "name": "vis"
  },
  "language_info": {
   "codemirror_mode": {
    "name": "ipython",
    "version": 3
   },
   "file_extension": ".py",
   "mimetype": "text/x-python",
   "name": "python",
   "nbconvert_exporter": "python",
   "pygments_lexer": "ipython3",
   "version": "3.9.1"
  }
 },
 "nbformat": 4,
 "nbformat_minor": 4
}
