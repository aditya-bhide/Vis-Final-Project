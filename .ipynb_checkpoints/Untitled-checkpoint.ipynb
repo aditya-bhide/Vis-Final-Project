{
 "cells": [
  {
   "cell_type": "code",
   "execution_count": 4,
   "metadata": {},
   "outputs": [],
   "source": [
    "import pandas as pd\n",
    "import numpy as np"
   ]
  },
  {
   "cell_type": "code",
   "execution_count": 230,
   "metadata": {},
   "outputs": [],
   "source": [
    "df = pd.read_csv(\"data/crime_dataset.csv\")"
   ]
  },
  {
   "cell_type": "code",
   "execution_count": null,
   "metadata": {},
   "outputs": [],
   "source": []
  },
  {
   "cell_type": "code",
   "execution_count": 231,
   "metadata": {},
   "outputs": [
    {
     "data": {
      "text/plain": [
       "Index(['year', 'state_abbr', 'state_name', 'population', 'violent_crime',\n",
       "       'homicide', 'rape_legacy', 'rape_revised', 'robbery',\n",
       "       'aggravated_assault', 'property_crime', 'burglary', 'larceny',\n",
       "       'motor_vehicle_theft', 'caveats', 'all_crimes'],\n",
       "      dtype='object')"
      ]
     },
     "execution_count": 231,
     "metadata": {},
     "output_type": "execute_result"
    }
   ],
   "source": [
    "df.columns"
   ]
  },
  {
   "cell_type": "code",
   "execution_count": 232,
   "metadata": {},
   "outputs": [],
   "source": [
    "year = 2017\n",
    "state = 'South Carolina'\n",
    "crime = 'property_crime'"
   ]
  },
  {
   "cell_type": "code",
   "execution_count": 233,
   "metadata": {},
   "outputs": [
    {
     "data": {
      "text/html": [
       "<div>\n",
       "<style scoped>\n",
       "    .dataframe tbody tr th:only-of-type {\n",
       "        vertical-align: middle;\n",
       "    }\n",
       "\n",
       "    .dataframe tbody tr th {\n",
       "        vertical-align: top;\n",
       "    }\n",
       "\n",
       "    .dataframe thead th {\n",
       "        text-align: right;\n",
       "    }\n",
       "</style>\n",
       "<table border=\"1\" class=\"dataframe\">\n",
       "  <thead>\n",
       "    <tr style=\"text-align: right;\">\n",
       "      <th></th>\n",
       "      <th>year</th>\n",
       "      <th>state_abbr</th>\n",
       "      <th>state_name</th>\n",
       "      <th>population</th>\n",
       "      <th>violent_crime</th>\n",
       "      <th>homicide</th>\n",
       "      <th>rape_legacy</th>\n",
       "      <th>rape_revised</th>\n",
       "      <th>robbery</th>\n",
       "      <th>aggravated_assault</th>\n",
       "      <th>property_crime</th>\n",
       "      <th>burglary</th>\n",
       "      <th>larceny</th>\n",
       "      <th>motor_vehicle_theft</th>\n",
       "      <th>caveats</th>\n",
       "      <th>all_crimes</th>\n",
       "    </tr>\n",
       "  </thead>\n",
       "  <tbody>\n",
       "    <tr>\n",
       "      <th>2000</th>\n",
       "      <td>2017</td>\n",
       "      <td>SC</td>\n",
       "      <td>South Carolina</td>\n",
       "      <td>5021219</td>\n",
       "      <td>25412</td>\n",
       "      <td>380</td>\n",
       "      <td>NaN</td>\n",
       "      <td>2576.0</td>\n",
       "      <td>3884</td>\n",
       "      <td>18572</td>\n",
       "      <td>160368.0</td>\n",
       "      <td>31165.0</td>\n",
       "      <td>114931</td>\n",
       "      <td>14272</td>\n",
       "      <td>NaN</td>\n",
       "      <td>235897.0</td>\n",
       "    </tr>\n",
       "  </tbody>\n",
       "</table>\n",
       "</div>"
      ],
      "text/plain": [
       "      year state_abbr      state_name  population  violent_crime  homicide  \\\n",
       "2000  2017         SC  South Carolina     5021219          25412       380   \n",
       "\n",
       "      rape_legacy  rape_revised  robbery  aggravated_assault  property_crime  \\\n",
       "2000          NaN        2576.0     3884               18572        160368.0   \n",
       "\n",
       "      burglary  larceny  motor_vehicle_theft caveats  all_crimes  \n",
       "2000   31165.0   114931                14272     NaN    235897.0  "
      ]
     },
     "execution_count": 233,
     "metadata": {},
     "output_type": "execute_result"
    }
   ],
   "source": [
    "df.loc[(df['year'] == year) & (df['state_name'] == state)]"
   ]
  },
  {
   "cell_type": "code",
   "execution_count": null,
   "metadata": {},
   "outputs": [],
   "source": []
  },
  {
   "cell_type": "code",
   "execution_count": null,
   "metadata": {},
   "outputs": [],
   "source": []
  },
  {
   "cell_type": "code",
   "execution_count": null,
   "metadata": {},
   "outputs": [],
   "source": []
  },
  {
   "cell_type": "code",
   "execution_count": null,
   "metadata": {},
   "outputs": [],
   "source": []
  },
  {
   "cell_type": "code",
   "execution_count": null,
   "metadata": {},
   "outputs": [],
   "source": []
  },
  {
   "cell_type": "code",
   "execution_count": null,
   "metadata": {},
   "outputs": [],
   "source": []
  },
  {
   "cell_type": "code",
   "execution_count": null,
   "metadata": {},
   "outputs": [],
   "source": []
  },
  {
   "cell_type": "code",
   "execution_count": 234,
   "metadata": {},
   "outputs": [],
   "source": [
    "df.loc[(df['year'] == year) & (df['state_name'] == state), crime] *= 1.2"
   ]
  },
  {
   "cell_type": "code",
   "execution_count": 235,
   "metadata": {},
   "outputs": [
    {
     "name": "stdout",
     "output_type": "stream",
     "text": [
      "aggravated_assault\n",
      "property_crime\n",
      "burglary\n"
     ]
    }
   ],
   "source": [
    "to_add = ['violent_crime',\n",
    "       'homicide', 'aggravated_assault', 'property_crime',\n",
    "       'burglary']\n",
    "df['all_crimes'] = df['violent_crime'] + df['homicide']\n",
    "for i in range(2, len(to_add)):\n",
    "    print(to_add[i])\n",
    "    df['all_crimes'] += df[to_add[i]]"
   ]
  },
  {
   "cell_type": "code",
   "execution_count": 236,
   "metadata": {},
   "outputs": [
    {
     "data": {
      "text/html": [
       "<div>\n",
       "<style scoped>\n",
       "    .dataframe tbody tr th:only-of-type {\n",
       "        vertical-align: middle;\n",
       "    }\n",
       "\n",
       "    .dataframe tbody tr th {\n",
       "        vertical-align: top;\n",
       "    }\n",
       "\n",
       "    .dataframe thead th {\n",
       "        text-align: right;\n",
       "    }\n",
       "</style>\n",
       "<table border=\"1\" class=\"dataframe\">\n",
       "  <thead>\n",
       "    <tr style=\"text-align: right;\">\n",
       "      <th></th>\n",
       "      <th>year</th>\n",
       "      <th>state_abbr</th>\n",
       "      <th>state_name</th>\n",
       "      <th>population</th>\n",
       "      <th>violent_crime</th>\n",
       "      <th>homicide</th>\n",
       "      <th>rape_legacy</th>\n",
       "      <th>rape_revised</th>\n",
       "      <th>robbery</th>\n",
       "      <th>aggravated_assault</th>\n",
       "      <th>property_crime</th>\n",
       "      <th>burglary</th>\n",
       "      <th>larceny</th>\n",
       "      <th>motor_vehicle_theft</th>\n",
       "      <th>caveats</th>\n",
       "      <th>all_crimes</th>\n",
       "    </tr>\n",
       "  </thead>\n",
       "  <tbody>\n",
       "    <tr>\n",
       "      <th>2000</th>\n",
       "      <td>2017</td>\n",
       "      <td>SC</td>\n",
       "      <td>South Carolina</td>\n",
       "      <td>5021219</td>\n",
       "      <td>25412</td>\n",
       "      <td>380</td>\n",
       "      <td>NaN</td>\n",
       "      <td>2576.0</td>\n",
       "      <td>3884</td>\n",
       "      <td>18572</td>\n",
       "      <td>192441.6</td>\n",
       "      <td>31165.0</td>\n",
       "      <td>114931</td>\n",
       "      <td>14272</td>\n",
       "      <td>NaN</td>\n",
       "      <td>267970.6</td>\n",
       "    </tr>\n",
       "  </tbody>\n",
       "</table>\n",
       "</div>"
      ],
      "text/plain": [
       "      year state_abbr      state_name  population  violent_crime  homicide  \\\n",
       "2000  2017         SC  South Carolina     5021219          25412       380   \n",
       "\n",
       "      rape_legacy  rape_revised  robbery  aggravated_assault  property_crime  \\\n",
       "2000          NaN        2576.0     3884               18572        192441.6   \n",
       "\n",
       "      burglary  larceny  motor_vehicle_theft caveats  all_crimes  \n",
       "2000   31165.0   114931                14272     NaN    267970.6  "
      ]
     },
     "execution_count": 236,
     "metadata": {},
     "output_type": "execute_result"
    }
   ],
   "source": [
    "df.loc[(df['year'] == year) & (df['state_name'] == state)]"
   ]
  },
  {
   "cell_type": "code",
   "execution_count": 237,
   "metadata": {},
   "outputs": [],
   "source": [
    "df.to_csv('data/crime_dataset.csv', index=False)"
   ]
  },
  {
   "cell_type": "code",
   "execution_count": null,
   "metadata": {},
   "outputs": [],
   "source": []
  },
  {
   "cell_type": "code",
   "execution_count": null,
   "metadata": {},
   "outputs": [],
   "source": []
  },
  {
   "cell_type": "code",
   "execution_count": 133,
   "metadata": {},
   "outputs": [],
   "source": []
  },
  {
   "cell_type": "code",
   "execution_count": null,
   "metadata": {},
   "outputs": [],
   "source": []
  },
  {
   "cell_type": "code",
   "execution_count": null,
   "metadata": {},
   "outputs": [],
   "source": []
  },
  {
   "cell_type": "code",
   "execution_count": null,
   "metadata": {},
   "outputs": [],
   "source": []
  },
  {
   "cell_type": "code",
   "execution_count": null,
   "metadata": {},
   "outputs": [],
   "source": []
  },
  {
   "cell_type": "code",
   "execution_count": null,
   "metadata": {},
   "outputs": [],
   "source": []
  },
  {
   "cell_type": "code",
   "execution_count": null,
   "metadata": {},
   "outputs": [],
   "source": []
  },
  {
   "cell_type": "code",
   "execution_count": null,
   "metadata": {},
   "outputs": [],
   "source": []
  },
  {
   "cell_type": "code",
   "execution_count": null,
   "metadata": {},
   "outputs": [],
   "source": []
  },
  {
   "cell_type": "code",
   "execution_count": null,
   "metadata": {},
   "outputs": [],
   "source": []
  },
  {
   "cell_type": "code",
   "execution_count": null,
   "metadata": {},
   "outputs": [],
   "source": []
  },
  {
   "cell_type": "code",
   "execution_count": null,
   "metadata": {},
   "outputs": [],
   "source": []
  },
  {
   "cell_type": "code",
   "execution_count": null,
   "metadata": {},
   "outputs": [],
   "source": []
  },
  {
   "cell_type": "code",
   "execution_count": null,
   "metadata": {},
   "outputs": [],
   "source": []
  },
  {
   "cell_type": "code",
   "execution_count": null,
   "metadata": {},
   "outputs": [],
   "source": []
  },
  {
   "cell_type": "code",
   "execution_count": 87,
   "metadata": {},
   "outputs": [],
   "source": [
    "temp = pd.read_csv('data/crime_dataset.csv')"
   ]
  },
  {
   "cell_type": "code",
   "execution_count": 88,
   "metadata": {},
   "outputs": [
    {
     "data": {
      "text/html": [
       "<div>\n",
       "<style scoped>\n",
       "    .dataframe tbody tr th:only-of-type {\n",
       "        vertical-align: middle;\n",
       "    }\n",
       "\n",
       "    .dataframe tbody tr th {\n",
       "        vertical-align: top;\n",
       "    }\n",
       "\n",
       "    .dataframe thead th {\n",
       "        text-align: right;\n",
       "    }\n",
       "</style>\n",
       "<table border=\"1\" class=\"dataframe\">\n",
       "  <thead>\n",
       "    <tr style=\"text-align: right;\">\n",
       "      <th></th>\n",
       "      <th>year</th>\n",
       "      <th>state_abbr</th>\n",
       "      <th>state_name</th>\n",
       "      <th>population</th>\n",
       "      <th>violent_crime</th>\n",
       "      <th>homicide</th>\n",
       "      <th>rape_legacy</th>\n",
       "      <th>rape_revised</th>\n",
       "      <th>robbery</th>\n",
       "      <th>aggravated_assault</th>\n",
       "      <th>property_crime</th>\n",
       "      <th>burglary</th>\n",
       "      <th>larceny</th>\n",
       "      <th>motor_vehicle_theft</th>\n",
       "      <th>caveats</th>\n",
       "      <th>all_crimes</th>\n",
       "    </tr>\n",
       "  </thead>\n",
       "  <tbody>\n",
       "    <tr>\n",
       "      <th>604</th>\n",
       "      <td>1990</td>\n",
       "      <td>TX</td>\n",
       "      <td>Texas</td>\n",
       "      <td>16986510</td>\n",
       "      <td>129343</td>\n",
       "      <td>2389</td>\n",
       "      <td>8750.0</td>\n",
       "      <td>NaN</td>\n",
       "      <td>44297</td>\n",
       "      <td>73907</td>\n",
       "      <td>1200151</td>\n",
       "      <td>251609.6</td>\n",
       "      <td>731224</td>\n",
       "      <td>154415</td>\n",
       "      <td>NaN</td>\n",
       "      <td>1657399.6</td>\n",
       "    </tr>\n",
       "  </tbody>\n",
       "</table>\n",
       "</div>"
      ],
      "text/plain": [
       "     year state_abbr state_name  population  violent_crime  homicide  \\\n",
       "604  1990         TX      Texas    16986510         129343      2389   \n",
       "\n",
       "     rape_legacy  rape_revised  robbery  aggravated_assault  property_crime  \\\n",
       "604       8750.0           NaN    44297               73907         1200151   \n",
       "\n",
       "     burglary  larceny  motor_vehicle_theft caveats  all_crimes  \n",
       "604  251609.6   731224               154415     NaN   1657399.6  "
      ]
     },
     "execution_count": 88,
     "metadata": {},
     "output_type": "execute_result"
    }
   ],
   "source": [
    "temp.loc[(df['year'] == 1990) & (df['state_name'] == 'Texas')]"
   ]
  },
  {
   "cell_type": "code",
   "execution_count": null,
   "metadata": {},
   "outputs": [],
   "source": []
  },
  {
   "cell_type": "code",
   "execution_count": null,
   "metadata": {},
   "outputs": [],
   "source": []
  },
  {
   "cell_type": "code",
   "execution_count": null,
   "metadata": {},
   "outputs": [],
   "source": []
  },
  {
   "cell_type": "code",
   "execution_count": null,
   "metadata": {},
   "outputs": [],
   "source": []
  },
  {
   "cell_type": "code",
   "execution_count": null,
   "metadata": {},
   "outputs": [],
   "source": []
  },
  {
   "cell_type": "code",
   "execution_count": null,
   "metadata": {},
   "outputs": [],
   "source": []
  },
  {
   "cell_type": "code",
   "execution_count": 6,
   "metadata": {},
   "outputs": [],
   "source": []
  },
  {
   "cell_type": "code",
   "execution_count": 17,
   "metadata": {},
   "outputs": [
    {
     "name": "stdout",
     "output_type": "stream",
     "text": [
      "aggravated_assault\n",
      "property_crime\n",
      "burglary\n"
     ]
    }
   ],
   "source": [
    "to_add = ['violent_crime',\n",
    "       'homicide', 'aggravated_assault', 'property_crime',\n",
    "       'burglary']\n",
    "df['all_crimes'] = df['violent_crime'] + df['homicide']\n",
    "for i in range(2, len(to_add)):\n",
    "    print(to_add[i])\n",
    "    df['all_crimes'] += df[to_add[i]]"
   ]
  },
  {
   "cell_type": "code",
   "execution_count": null,
   "metadata": {},
   "outputs": [],
   "source": []
  }
 ],
 "metadata": {
  "kernelspec": {
   "display_name": "vis",
   "language": "python",
   "name": "vis"
  },
  "language_info": {
   "codemirror_mode": {
    "name": "ipython",
    "version": 3
   },
   "file_extension": ".py",
   "mimetype": "text/x-python",
   "name": "python",
   "nbconvert_exporter": "python",
   "pygments_lexer": "ipython3",
   "version": "3.9.1"
  }
 },
 "nbformat": 4,
 "nbformat_minor": 4
}
